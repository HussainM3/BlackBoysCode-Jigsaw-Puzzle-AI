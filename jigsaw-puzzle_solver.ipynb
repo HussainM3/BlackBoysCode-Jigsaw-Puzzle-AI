{
 "cells": [
  {
   "cell_type": "markdown",
   "metadata": {},
   "source": [
    "This is the main file with all functions for the jigsaw puzzle solver. \n",
    "\n",
    "The original author of this file is Maxim Terleev. The file was retrieved from the following GitHub repository:\n",
    "https://github.com/MaximTerleev/Jigsaw-Puzzle-AI/blob/main/jigsaw-puzzle-solver.py\n",
    "\n",
    "The solver contains many functions and can be split into 3 main sections:\n",
    "1. Image Processing\n",
    "2. Matching\n",
    "3. Assembling"
   ]
  },
  {
   "cell_type": "markdown",
   "metadata": {},
   "source": []
  }
 ],
 "metadata": {
  "kernelspec": {
   "display_name": "Python 3",
   "language": "python",
   "name": "python3"
  },
  "language_info": {
   "codemirror_mode": {
    "name": "ipython",
    "version": 3
   },
   "file_extension": ".py",
   "mimetype": "text/x-python",
   "name": "python",
   "nbconvert_exporter": "python",
   "pygments_lexer": "ipython3",
   "version": "3.10.13"
  }
 },
 "nbformat": 4,
 "nbformat_minor": 2
}
