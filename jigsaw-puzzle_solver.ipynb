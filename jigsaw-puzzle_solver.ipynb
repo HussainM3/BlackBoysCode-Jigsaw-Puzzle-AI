{
 "cells": [
  {
   "cell_type": "markdown",
   "metadata": {},
   "source": [
    "This is the jupyter file to be used for running each part of the code. Hover over the cell and click the run button to run the code. The code is split into 3 parts: Image Processing, Matching, and Assembling. Each part is run separately and the results are displayed in the output.\n",
    "\n",
    "The original author of this application is Maxim Terleev. The source files can be seen in the following GitHub repository:\n",
    "https://github.com/MaximTerleev/Jigsaw-Puzzle-AI/blob/main/jigsaw-puzzle-solver.py\n",
    "\n",
    "The solver contains many functions and can be split into 3 main sections:\n",
    "1. Image Processing\n",
    "2. Matching\n",
    "3. Assembling"
   ]
  },
  {
   "cell_type": "code",
   "execution_count": null,
   "metadata": {},
   "outputs": [],
   "source": [
    "# imports\n",
    "\n",
    "from scipy.ndimage import filters\n",
    "from PIL import Image, ImageChops\n",
    "import matplotlib.pyplot as plt\n",
    "from fastdtw import fastdtw\n",
    "import numpy as np\n",
    "import cv2"
   ]
  }
 ],
 "metadata": {
  "kernelspec": {
   "display_name": "Python 3",
   "language": "python",
   "name": "python3"
  },
  "language_info": {
   "codemirror_mode": {
    "name": "ipython",
    "version": 3
   },
   "file_extension": ".py",
   "mimetype": "text/x-python",
   "name": "python",
   "nbconvert_exporter": "python",
   "pygments_lexer": "ipython3",
   "version": "3.10.13"
  }
 },
 "nbformat": 4,
 "nbformat_minor": 2
}
