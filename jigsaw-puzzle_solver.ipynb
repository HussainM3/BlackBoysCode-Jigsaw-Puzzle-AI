{
 "cells": [
  {
   "cell_type": "markdown",
   "metadata": {},
   "source": [
    "This is the jupyter file to be used for running each part of the code. Read through each section and click the run button (after hovering over the cell) to run the code. The code is split into 3 parts: Image Processing, Matching, and Assembling. Each part is run separately and the results are displayed in the output.\n",
    "\n",
    "The original author of this application is Maxim Terleev. The source files can be seen in the following GitHub repository:\n",
    "https://github.com/MaximTerleev/Jigsaw-Puzzle-AI/blob/main/jigsaw-puzzle-solver.py\n",
    "\n",
    "The solver contains many functions and can be split into 3 main sections:\n",
    "1. Image Processing\n",
    "2. Matching\n",
    "3. Assembling"
   ]
  },
  {
   "cell_type": "markdown",
   "metadata": {},
   "source": [
    "## Imports"
   ]
  },
  {
   "cell_type": "code",
   "execution_count": null,
   "metadata": {},
   "outputs": [],
   "source": [
    "# imports\n",
    "from scipy.ndimage import median_filter\n",
    "from PIL import Image, ImageChops\n",
    "import matplotlib.pyplot as plt\n",
    "from fastdtw import fastdtw\n",
    "import numpy as np\n",
    "import cv2"
   ]
  },
  {
   "cell_type": "markdown",
   "metadata": {},
   "source": [
    "# Image processing"
   ]
  },
  {
   "cell_type": "markdown",
   "metadata": {},
   "source": [
    "For processing the image, we take a scanned image of some jigsaw puzzle pieces as input. The image has to be a good quality scan with a distinctive background and puzzle pieces. The image is then processed to extract the puzzle pieces from the background. The puzzle pieces are then stored in a list."
   ]
  },
  {
   "cell_type": "markdown",
   "metadata": {},
   "source": [
    "Here are a couple functions for showing output. Running them doesn't do anything at the moment. But they will be used throughout the code for output, so it's important to run this cell first."
   ]
  },
  {
   "cell_type": "code",
   "execution_count": null,
   "metadata": {},
   "outputs": [],
   "source": [
    "# @title Functions\n",
    "\n",
    "def showpic(image, width=10):\n",
    "  plt.figure(figsize=(width, width/1000*727))\n",
    "  plt.imshow(image, cmap='gray')\n",
    "  plt.axis('off')\n",
    "  plt.show()\n",
    "\n",
    "def showlist(tiles, width=10):\n",
    "  n_rows = np.ceil(len(tiles)/5).astype('int')\n",
    "  plt.subplots(n_rows, 5, figsize=(width, width))\n",
    "  for i in range(len(tiles)):\n",
    "    plt.subplot(n_rows, 5, i+1)\n",
    "    plt.axis('off')\n",
    "    plt.title(str(i))\n",
    "    plt.imshow(tiles[i])\n",
    "  plt.show()"
   ]
  },
  {
   "cell_type": "markdown",
   "metadata": {},
   "source": [
    "In order to further make the puzzle image clearer for analyzing, we need to convert the image to the RGBA color space. This allows us to separate the image into its red, green, blue, and alpha channels. The alpha channel is used to determine the transparency of the image. The red, green, and blue channels are used to determine the color of the image."
   ]
  },
  {
   "cell_type": "code",
   "execution_count": null,
   "metadata": {},
   "outputs": [],
   "source": [
    "# Load scanned tiles\n",
    "puzzle = np.array(Image.open('puzzle.png').convert('RGBA'))\n",
    "print(puzzle.shape)\n",
    "showpic(puzzle)"
   ]
  },
  {
   "cell_type": "markdown",
   "metadata": {},
   "source": [
    "Now that we can detect the colors in the image, we need to separate the image into its individual puzzle pieces. To do this, we need to find and remove the background of the image. This can be done with Adaptive Thresholding. Adaptive Thresholding works by comparing the pixel values of the image to a threshold value. If the pixel value is greater than the threshold value, the pixel is set to a maximum value. If the pixel value is less than the threshold value, the pixel is set to a minimum value. This creates a binary image where the foreground is white and the background is black."
   ]
  },
  {
   "cell_type": "code",
   "execution_count": null,
   "metadata": {},
   "outputs": [],
   "source": [
    "# Adaptive thresholding\n",
    "thresh = cv2.cvtColor(puzzle, cv2.COLOR_RGBA2GRAY)\n",
    "thresh = cv2.adaptiveThreshold(thresh, 255, 0, 1, 3, 3)\n",
    "thresh = cv2.GaussianBlur(thresh, (3,3), 1)\n",
    "showpic(thresh)"
   ]
  },
  {
   "cell_type": "markdown",
   "metadata": {},
   "source": [
    "This is good but we need it to be even clearer so we can easily detect the edges of the puzzle pieces. To do this, we'll user OpenCV contour detection and fill technique. This will allow us to detect the edges of the puzzle pieces (contours) and fill them in with white color."
   ]
  },
  {
   "cell_type": "code",
   "execution_count": null,
   "metadata": {},
   "outputs": [],
   "source": [
    "# Find and fill contours (puzzle pieces)\n",
    "contours, _ = cv2.findContours(thresh, 0, 1)\n",
    "sorting = sorted([[cnt.shape[0], i] for i, cnt in enumerate(contours)], reverse=True)[:15]\n",
    "biggest = [contours[s[1]] for s in sorting] \n",
    "fill = cv2.drawContours(np.zeros(puzzle.shape[:2]), biggest, -1, 255, thickness=cv2.FILLED)\n",
    "showpic(fill)"
   ]
  },
  {
   "cell_type": "markdown",
   "metadata": {},
   "source": [
    "We're getting there, but we need to make the puzzle pieces even clearer! The tiles still have ragged edges and we need to make them smoother."
   ]
  },
  {
   "cell_type": "code",
   "execution_count": null,
   "metadata": {},
   "outputs": [],
   "source": [
    "# Smooth contours (puzzle pieces) and trim shadows\n",
    "smooth = median_filter(fill.astype('uint8'), size=10)\n",
    "trim_contours, _ = cv2.findContours(smooth, 0, 1)\n",
    "cv2.drawContours(smooth, trim_contours, -1, color=0, thickness=1)\n",
    "showpic(smooth)"
   ]
  },
  {
   "cell_type": "markdown",
   "metadata": {},
   "source": [
    "Now we're talking! Now the image is binary: the puzzle pieces are white and the background is black. We can now *superimpose* this image on the original image to get the colored puzzle pieces one by one(superimpose just means to overlay one image on top of another). \n",
    "\n",
    "We'll use the `boundingRect()` function to help us cut each tile out of the image to store them seperately. This function returns the coordinates of the puzzle pieces (contours). We can use these coordinates to save the locations of the puzzle pieces."
   ]
  },
  {
   "cell_type": "code",
   "execution_count": null,
   "metadata": {},
   "outputs": [],
   "source": [
    "# Split into tiles\n",
    "contours, _ = cv2.findContours(smooth, 0, 1)\n",
    "tiles, tile_centers = [], []\n",
    "for i in range(len(contours)):\n",
    "  x, y, w, h = cv2.boundingRect(contours[i])\n",
    "  shape, tile = np.zeros(puzzle.shape[:2]), np.zeros((300,300,4), 'uint8')\n",
    "  cv2.drawContours(shape, [contours[i]], -1, color=1, thickness=-1)\n",
    "  shape = (puzzle * shape[:,:,None])[y:y+h,x:x+w,:]\n",
    "  tile[(300-h)//2:(300-h)//2+h,(300-w)//2:(300-w)//2+w] = shape\n",
    "  tiles.append(tile)\n",
    "  tile_centers.append((h//2+y, w//2+x))\n",
    "\n",
    "showlist(tiles)"
   ]
  },
  {
   "cell_type": "markdown",
   "metadata": {},
   "source": [
    "# Matching"
   ]
  },
  {
   "cell_type": "markdown",
   "metadata": {},
   "source": [
    "Matching is the process of comparing multiple puzzle pieces to find the best match. In our case, we will take a pair of puzzle pieces and look for similar parts in their contours. We will then compare colors along those parts and try to lock the parts together without losing any pixels."
   ]
  },
  {
   "cell_type": "markdown",
   "metadata": {},
   "source": [
    "We'll start off just by rescaling the tiles just to place them on a larger canvas. This will make it easier to compare the tiles."
   ]
  },
  {
   "cell_type": "code",
   "execution_count": null,
   "metadata": {},
   "outputs": [],
   "source": [
    "# Rescale tiles to assembly format\n",
    "canvas_tiles = []\n",
    "for i in range(len(tiles)):\n",
    "  canvas_tile = np.zeros((1400,1400,4), 'uint8')\n",
    "  canvas_tile[550:850, 550:850] = tiles[i].copy()\n",
    "  canvas_tiles.append(canvas_tile)"
   ]
  },
  {
   "cell_type": "markdown",
   "metadata": {},
   "source": [
    "Now we're going to define a bunch of functions to be used in the matching algorithm:\n",
    "\n",
    "1. `getColours()` - This function will return a list of the color pixels along the contour (edges) of the puzzle piece.\n",
    "2. `putOnAnvil()` - This function is pretty technical. It will basically just properly place the puzzle piece on the canvas.\n",
    "3. `rotatePoint()` - This function will help track the tile position and rotation of the tile when we are assempling them together.\n",
    "4. `reScale()` - This function is again pretty technical but it will help us rescale the puzzle pieces from the (300, 300) canvas to our new (1400, 1400) canvas."
   ]
  },
  {
   "cell_type": "code",
   "execution_count": null,
   "metadata": {},
   "outputs": [],
   "source": [
    "# @title Functions\n",
    "\n",
    "def getColors(image, subcontour):\n",
    "  subcontour = np.flip(subcontour)\n",
    "\n",
    "  colors = []\n",
    "  for n in range(len(subcontour)-3):\n",
    "    (y,x) = subcontour[n]\n",
    "    (y1,x1) = subcontour[n+3]\n",
    "    h, w = y1 - y, x1 - x\n",
    "    colors.append(image[y-w, x+h, :3] + image[y+w, x-h, :3])\n",
    "\n",
    "  colors = np.array(colors, 'uint8').reshape(-1,1,3)\n",
    "  colors = cv2.cvtColor(colors, cv2.COLOR_RGB2HSV)\n",
    "  \n",
    "  return colors.reshape(-1,3)\n",
    "\n",
    "def putOnAnvil(arr_img, point, angle, center=(700,700)):\n",
    "  img = Image.fromarray(arr_img)\n",
    "  img = ImageChops.offset(img, center[1] - point[1], center[0] - point[0])\n",
    "  img = img.rotate(angle)\n",
    "\n",
    "  return np.array(img)\n",
    "\n",
    "def rotatePoint(point, angle, center=(700,700)):\n",
    "  dy, dx = center[0]-point[0], point[1]-center[1]\n",
    "  distance = np.sqrt(np.square(point[0]-center[0]) + np.square(point[1]-center[1]))\n",
    "  if dx==0: dx = 1\n",
    "  base = 90*(1-np.sign(dx)) + np.degrees(np.arctan(dy/dx))\n",
    "  \n",
    "  y = round(center[0] - distance * np.sin(np.pi * (base + angle)/180))\n",
    "  x = round(center[1] + distance * np.cos(np.pi * (base + angle)/180))\n",
    "\n",
    "  return (y,x)\n",
    "\n",
    "def reScale(point, position, center=(150,150)):\n",
    "  cy, cx, angle = position\n",
    "  if angle!=0: (y, x) = rotatePoint(point, angle, center)\n",
    "  else: (y, x) = point\n",
    "\n",
    "  return (y + cy - center[0], x + cx - center[1])"
   ]
  },
  {
   "cell_type": "markdown",
   "metadata": {},
   "source": [
    "Now comes the main function for matching the puzzle pieces. It looks scary, but it's not that bad and can be broken down into smaller parts. \n",
    "\n",
    "The function will go through 3 matching loops: contour (puzzle piece) matching, color matching, and puzzle piece fitting. The idea is to continuously reduce the number of matches, filtering bad ones out by certain criteria. More info on each loop section is found in matching section of the article."
   ]
  },
  {
   "cell_type": "code",
   "execution_count": null,
   "metadata": {},
   "outputs": [],
   "source": [
    "# @title Matching algorithm\n",
    "def matchTiles(A, B):\n",
    "\n",
    "  LENGTH = 160\n",
    "  PRECISION = 8\n",
    "  STEP_A = 20\n",
    "  STEP_B = 7\n",
    "  MAX_FORM = 0.015\n",
    "  MAX_COLOR = 8000\n",
    "  MAX_PIXEL = 0.03\n",
    "  MAX_FIT = 0.77\n",
    "\n",
    "  CENTER = round(LENGTH/2)\n",
    "\n",
    "  tileA, tileB = tiles[A], tiles[B]\n",
    "  cntA, _ = cv2.findContours(tileA[:,:,3], 0, 1)\n",
    "  cntB, _ = cv2.findContours(tileB[:,:,3], 0, 1)\n",
    "  cntA, cntB = cntA[0].reshape(-1,2), cntB[0].reshape(-1,2)\n",
    "  sumLen = cntA.shape[0] + cntB.shape[0]\n",
    "\n",
    "  # Contour matching\n",
    "  form_matches = []\n",
    "  for i in range(0, cntA.shape[0], STEP_A):\n",
    "\n",
    "    # subcontour A and its type\n",
    "    subcA = np.roll(cntA, -i, 0)[:LENGTH]\n",
    "    pointA = tuple(np.flip(subcA[CENTER]))\n",
    "    cA, (hA,wA), aA = cv2.minAreaRect(subcA)\n",
    "    typepointA = np.intp(np.flip(subcA[0] + subcA[-1] - cA))\n",
    "    typeA = tileA[:,:,3][tuple(typepointA)]\n",
    "    a = cv2.drawContours(np.zeros((300,300),'uint8'), subcA.reshape(-1,1,2), -1, 255, 1)\n",
    "\n",
    "    # loop through match subcontours\n",
    "    for j in range(0, cntB.shape[0], STEP_B):\n",
    "      \n",
    "      # subcontour B and its type\n",
    "      subcB = np.roll(cntB, -j, 0)[:LENGTH]\n",
    "      pointB = tuple(np.flip(subcB[CENTER]))\n",
    "      cB, (hB,wB), aB = cv2.minAreaRect(subcB)\n",
    "      typepointB = np.intp(np.flip(subcB[0] + subcB[-1] - cB))\n",
    "      typeB = tileB[:,:,3][tuple(typepointB)]\n",
    "\n",
    "      # record good form matches\n",
    "      if typeB != typeA:\n",
    "        if ((abs(hA-hB) < PRECISION) & (abs(wA-wB) < PRECISION)) or ((abs(hA-wB) < PRECISION) & (abs(wA-hB) < PRECISION)):\n",
    "          b = cv2.drawContours(np.zeros((300,300),'uint8'), subcB.reshape(-1,1,2), -1, 255, 1)\n",
    "          fmatch = cv2.matchShapes(a,b,1,0)\n",
    "          if fmatch < MAX_FORM: \n",
    "            colinear = True if np.sign(hA-wA) == np.sign(hB-wB) else False\n",
    "            if colinear:\n",
    "              codirect = True if (np.sign(typepointA - np.flip(cA)) ==  np.sign(typepointB - np.flip(cB))).all() else False\n",
    "            else:\n",
    "              c = np.concatenate([np.sign(typepointA - np.flip(cA)), np.sign(typepointB - np.flip(cB))])\n",
    "              codirect = True if (abs(np.sum(c[:3])) + abs(np.sum(c[-3:]))) == 4 else False\n",
    "            if not colinear: aB = aB + 90\n",
    "            if not codirect: aB = aB + 180  \n",
    "            form_matches.append([(i, j), pointA, pointB, round(aB-aA,4), round(fmatch,4)])\n",
    " \n",
    "  # Color matching\n",
    "  color_matches = []\n",
    "  for n in range(len(form_matches)):\n",
    "    (i, j), pointA, pointB, angle, fmatch = form_matches[n]\n",
    "    subcA = np.roll(cntA, -i, 0)[:LENGTH] \n",
    "    subcB = np.roll(cntB, -j, 0)[:LENGTH]\n",
    "    colorsA = getColors(tileA, subcA)\n",
    "    colorsB = getColors(tileB, subcB)\n",
    "    cmatch = fastdtw(colorsA, np.flip(colorsB, axis=0))[0]\n",
    "    if cmatch < MAX_COLOR: \n",
    "      color_matches.append([(i, j), pointA, pointB, angle, fmatch, round(cmatch)])\n",
    "\n",
    "  # Pre-fitting\n",
    "  fit_matches = []\n",
    "  for n in range(len(color_matches)):\n",
    "    (i, j), pointA, pointB, angle, fmatch, cmatch = color_matches[n]\n",
    "    a = putOnAnvil(canvas_tiles[A][:,:,3], reScale(pointA, [700,700,0]), 0)\n",
    "    b = putOnAnvil(canvas_tiles[B][:,:,3], reScale(pointB, [700,700,0]), angle)\n",
    "    loss = 1 - (np.sum((a+b)>0) / (np.sum(a>0) + np.sum(b>0)))\n",
    "    contours, _ = cv2.findContours((a+b), 0, 1)\n",
    "    fit = contours[0].shape[0] / sumLen\n",
    "    if (loss < MAX_PIXEL) & (fit < MAX_FIT): \n",
    "      fit_matches.append([(A, B), (i, j), pointA, pointB, angle, fmatch, cmatch, round(loss+fit,4), 0])\n",
    "\n",
    "  fit_matches.sort(key=lambda n: n[-1])\n",
    "\n",
    "  return fit_matches"
   ]
  },
  {
   "cell_type": "markdown",
   "metadata": {},
   "source": [
    "Here is where we will run the matching algorithm, calculating the best matches for each puzzle piece. This will take a while to run, so be patient!"
   ]
  },
  {
   "cell_type": "code",
   "execution_count": null,
   "metadata": {},
   "outputs": [],
   "source": [
    "# Calculate all possible matches\n",
    "matches = []\n",
    "for a in range(len(tiles)-1):\n",
    "  for b in range(a+1,len(tiles)):\n",
    "    matches.extend(matchTiles(a,b))\n",
    "\n",
    "#artificially add missing match ERROR\n",
    "matches.append([(4, 11), (100, 14), (177, 40), (101, 142), 276.7329, 0.0041, 7969, 0.7417, 0])\n",
    "matches.append([(11, 4), (100, 14), (101, 142), (177, 40), -276.7329, 0.0041, 7969, 0.7417, 0])\n",
    "\n",
    "# Flip and sort\n",
    "for n in range(len(matches)):\n",
    "  pair, ij, pointa, pointb, angle, fmatch, cmatch, fit, lock = matches[n]\n",
    "  matches.extend([[(pair[1],pair[0]), ij, pointb, pointa, -angle, fmatch, cmatch, fit, lock]])\n",
    "matches.sort(key=lambda m: (m[0], m[-2]))\n",
    "\n",
    "\n",
    "\n",
    "# Print all matches\n",
    "for m in matches:\n",
    "    print(m,\"\\n\")\n"
   ]
  },
  {
   "cell_type": "markdown",
   "metadata": {},
   "source": [
    "# Assembly"
   ]
  },
  {
   "cell_type": "markdown",
   "metadata": {},
   "source": [
    "The main idea in assembly is to go through the matches and try to lock the pieces together. We do this by superimposing the pieces on top of each other and rotating them to find the best fit. We then lock the pieces together by merging them."
   ]
  },
  {
   "cell_type": "markdown",
   "metadata": {},
   "source": [
    "We will use a helpful function (`updateCanvas()`) to simplify the algorithm. This function keeps records of tiles positions and angles on the canvas when the puzzle pieces are assembled."
   ]
  },
  {
   "cell_type": "code",
   "execution_count": null,
   "metadata": {},
   "outputs": [],
   "source": [
    "# @title Functions\n",
    "\n",
    "def updateCanvas(canvas, positions, pointA, pointB, angleA, angleB):\n",
    "  # update records for tiles on canvas\n",
    "  for N, pos in enumerate(positions):\n",
    "    if N in canvas:\n",
    "      new_center = (pos[0] + 700 - pointA[0], pos[1] + 700 - pointA[1])\n",
    "      new_center = rotatePoint(new_center, angleA)\n",
    "      new_angle = pos[2] + angleA\n",
    "      positions[N] = [*new_center, new_angle]\n",
    "\n",
    "  # append record for the added tile\n",
    "  canvas.append(B)\n",
    "  center = rotatePoint((700 + 700 - pointB[0], 700 + 700 - pointB[1]), angleB)\n",
    "  positions[B] = [*center, angleB]\n",
    "\n",
    "  return canvas, positions"
   ]
  },
  {
   "cell_type": "markdown",
   "metadata": {},
   "source": [
    "Our puzzle has 22 joints, but the matching algortihm has returned 37 matches. This technically means we need to do more filtering, but for simplicity we will drop the replacement of tiles and just have a max of 10 attempts to assemble the puzzle."
   ]
  },
  {
   "cell_type": "code",
   "execution_count": null,
   "metadata": {},
   "outputs": [],
   "source": [
    "# Assembly\n",
    "assembly = canvas_tiles[0].copy()\n",
    "positions = [[0,0,0]]*len(tiles)\n",
    "positions[0] = [700,700,0]\n",
    "canvas = [0]\n",
    "attempts = 0\n",
    "\n",
    "while (len(canvas) < 15) & (attempts < 10):\n",
    "  for n in range(len(matches)):\n",
    "    # take next matching pair\n",
    "    (A, B), ij, pointA, pointB, angleB, _, _, _, lock = matches[n]\n",
    "    pointA = reScale(pointA, positions[A])\n",
    "    pointB = reScale(pointB, (700,700,0))\n",
    "\n",
    "    if A in canvas:\n",
    "      angleA = - positions[A][2]\n",
    "      pre_assembly = putOnAnvil(assembly.copy(), pointA, angleA)\n",
    "      \n",
    "      if B not in canvas:\n",
    "        newtile = putOnAnvil(canvas_tiles[B], pointB, angleB)\n",
    "\n",
    "        # fix or pass depending on loss of pixels\n",
    "        loss = (np.sum(pre_assembly[:,:,3]>0) + np.sum(newtile[:,:,3]>0) - \n",
    "                np.sum((pre_assembly+newtile)[:,:,3]>0)\n",
    "                ) / np.sum(newtile[:,:,3]>0)\n",
    "        if loss < 0.1: \n",
    "          matches[n][-1] = 1\n",
    "          assembly = pre_assembly.copy() + newtile.copy()\n",
    "          canvas, positions = updateCanvas(canvas, positions, \n",
    "                                           pointA, pointB, angleA, angleB)\n",
    "  \n",
    "  attempts += 1\n",
    "\n",
    "showpic(assembly)"
   ]
  },
  {
   "cell_type": "markdown",
   "metadata": {},
   "source": [
    "The image looking a bit worn out is just due to the distortion of information when the puzzle pieces are merged. Other than that, this works fine! We have successfully assembled the puzzle!\n",
    "\n",
    "To conclude, we will mark the orignal tiles with the matches found. This will help us visualize the matches and see how to put the puzzle together from scratch. For each pair, we draw circles of a specific color in the lock positions and put a match number inside of both."
   ]
  },
  {
   "cell_type": "code",
   "execution_count": null,
   "metadata": {},
   "outputs": [],
   "source": [
    "# Mark matches in original image\n",
    "count = 0\n",
    "markup = puzzle.copy()\n",
    "colors = [[r,g,b,255] for r in [255,100,0] for g in [225,100,0] for b in [255,100,0]]\n",
    "for n in range(len(matches)):\n",
    "  (A, B), _, pointA, pointB, _, _, _, _, lock = matches[n]\n",
    "  if lock == 1:\n",
    "    count += 1\n",
    "    centerA = (tile_centers[A][1]-(150-pointA[1]), tile_centers[A][0]-(150-pointA[0]))\n",
    "    centerB = (tile_centers[B][1]-(150-pointB[1]), tile_centers[B][0]-(150-pointB[0]))\n",
    "    cv2.circle(markup, centerA, 15, colors[count], -1)\n",
    "    cv2.circle(markup, centerB, 15, colors[count], -1)\n",
    "    cv2.putText(markup, str(count), (centerA[0]-7,centerA[1]+5), 1, 1, [255,255,255,255], 2)\n",
    "    cv2.putText(markup, str(count), (centerB[0]-7,centerB[1]+5), 1, 1, [255,255,255,255], 2)\n",
    "\n",
    "showpic(markup)"
   ]
  }
 ],
 "metadata": {
  "kernelspec": {
   "display_name": "Python 3",
   "language": "python",
   "name": "python3"
  },
  "language_info": {
   "codemirror_mode": {
    "name": "ipython",
    "version": 3
   },
   "file_extension": ".py",
   "mimetype": "text/x-python",
   "name": "python",
   "nbconvert_exporter": "python",
   "pygments_lexer": "ipython3",
   "version": "3.10.13"
  }
 },
 "nbformat": 4,
 "nbformat_minor": 2
}
